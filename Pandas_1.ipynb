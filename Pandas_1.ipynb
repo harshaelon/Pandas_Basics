{
 "cells": [
  {
   "cell_type": "code",
   "execution_count": 1,
   "id": "86737c77",
   "metadata": {},
   "outputs": [],
   "source": [
    "import numpy as np"
   ]
  },
  {
   "cell_type": "code",
   "execution_count": 2,
   "id": "493e1556",
   "metadata": {},
   "outputs": [],
   "source": [
    "import pandas as pd\n"
   ]
  },
  {
   "cell_type": "code",
   "execution_count": 3,
   "id": "13a78801",
   "metadata": {},
   "outputs": [],
   "source": [
    "lst=[1,2,3,3,4,5,6]"
   ]
  },
  {
   "cell_type": "code",
   "execution_count": 4,
   "id": "ba583c4a",
   "metadata": {},
   "outputs": [
    {
     "name": "stdout",
     "output_type": "stream",
     "text": [
      "0    1\n",
      "1    2\n",
      "2    3\n",
      "3    3\n",
      "4    4\n",
      "5    5\n",
      "6    6\n",
      "dtype: int64 <class 'pandas.core.series.Series'>\n"
     ]
    }
   ],
   "source": [
    "s=pd.Series(lst)\n",
    "\n",
    "print(s,type(s))"
   ]
  },
  {
   "cell_type": "code",
   "execution_count": 5,
   "id": "075f79ff",
   "metadata": {},
   "outputs": [],
   "source": [
    "#we can use sequential data , list type data , dictionaries for the Series representation, but not sets, why? cause they arent ordered."
   ]
  },
  {
   "cell_type": "code",
   "execution_count": 6,
   "id": "0fc9d3c2",
   "metadata": {},
   "outputs": [],
   "source": [
    "# s=pd.Series(object,index,dtype)\n",
    "\n",
    "# here : object maybe a list , dictionary , int value etc.\n",
    "# index : is user defined index, if not default value starts from 0.\n"
   ]
  },
  {
   "cell_type": "code",
   "execution_count": 7,
   "id": "ff218f41",
   "metadata": {},
   "outputs": [],
   "source": [
    "lst=[10,\"python\",\"S\",\"python for Data Scientists\"]\n",
    "\n"
   ]
  },
  {
   "cell_type": "code",
   "execution_count": 8,
   "id": "b63c338d",
   "metadata": {},
   "outputs": [
    {
     "name": "stdout",
     "output_type": "stream",
     "text": [
      "eno                               10\n",
      "sub                           python\n",
      "grade                              S\n",
      "course    python for Data Scientists\n",
      "dtype: object <class 'pandas.core.series.Series'>\n"
     ]
    }
   ],
   "source": [
    "s=pd.Series(lst,[\"eno\",\"sub\",\"grade\",\"course\"])\n",
    "\n",
    "print(s,type(s))"
   ]
  },
  {
   "cell_type": "code",
   "execution_count": 9,
   "id": "01eca3e2",
   "metadata": {},
   "outputs": [
    {
     "data": {
      "text/plain": [
       "course    python for Data Scientists\n",
       "grade                              S\n",
       "sub                           python\n",
       "eno                               10\n",
       "dtype: object"
      ]
     },
     "execution_count": 9,
     "metadata": {},
     "output_type": "execute_result"
    }
   ],
   "source": [
    "s[::-1]"
   ]
  },
  {
   "cell_type": "code",
   "execution_count": 10,
   "id": "a32ea8f5",
   "metadata": {},
   "outputs": [],
   "source": [
    "# this series representation is mutable, can be sliced and indexed as well."
   ]
  },
  {
   "cell_type": "code",
   "execution_count": 11,
   "id": "9e84d6d1",
   "metadata": {},
   "outputs": [],
   "source": [
    "#now for dataframes."
   ]
  },
  {
   "cell_type": "code",
   "execution_count": 12,
   "id": "b0e19ae0",
   "metadata": {},
   "outputs": [],
   "source": [
    "# dataframe is the collection of rows, colums and datasets. \n",
    "\n",
    "# syntax : var_name=pd.DataFrame(lst,[10,20,30,40],[\"roll\",\"names\"])"
   ]
  },
  {
   "cell_type": "code",
   "execution_count": 24,
   "id": "81a61950",
   "metadata": {},
   "outputs": [],
   "source": [
    "lst=[[10,20,30,40],[\"hazard\",\"neymar\",\"ronaldo\",\"messi\"]]"
   ]
  },
  {
   "cell_type": "code",
   "execution_count": 25,
   "id": "28cad383",
   "metadata": {},
   "outputs": [],
   "source": [
    "df=pd.DataFrame(lst)"
   ]
  },
  {
   "cell_type": "code",
   "execution_count": 26,
   "id": "f88c6d4d",
   "metadata": {},
   "outputs": [
    {
     "name": "stdout",
     "output_type": "stream",
     "text": [
      "        0       1        2      3\n",
      "0      10      20       30     40\n",
      "1  hazard  neymar  ronaldo  messi <class 'pandas.core.frame.DataFrame'>\n"
     ]
    }
   ],
   "source": [
    "print(df,type(df))"
   ]
  },
  {
   "cell_type": "code",
   "execution_count": 17,
   "id": "ca285c66",
   "metadata": {},
   "outputs": [],
   "source": [
    "lst={10:\"hazard\",20:\"neymar\",30:\"ronaldo\",40:\"messi\"}"
   ]
  },
  {
   "cell_type": "code",
   "execution_count": 27,
   "id": "8106e8e3",
   "metadata": {},
   "outputs": [
    {
     "data": {
      "text/plain": [
       "0        20\n",
       "1    neymar\n",
       "Name: 1, dtype: object"
      ]
     },
     "execution_count": 27,
     "metadata": {},
     "output_type": "execute_result"
    }
   ],
   "source": [
    "df[1]"
   ]
  },
  {
   "cell_type": "code",
   "execution_count": 22,
   "id": "f6b6bfb3",
   "metadata": {},
   "outputs": [
    {
     "name": "stdout",
     "output_type": "stream",
     "text": [
      "  trophies player\n",
      "1      NaN    NaN\n",
      "2      NaN    NaN\n",
      "3      NaN    NaN\n",
      "4      NaN    NaN <class 'pandas.core.frame.DataFrame'>\n"
     ]
    }
   ],
   "source": [
    "print(df,type(df))"
   ]
  },
  {
   "cell_type": "code",
   "execution_count": 28,
   "id": "0db0bf5f",
   "metadata": {},
   "outputs": [],
   "source": [
    "lst=[[\"sbi\",7.5,7.6,7.7],[\"icici\",6.5,6.9,7.8],[\"Hdfc\",11.4,11.5,9.5]]"
   ]
  },
  {
   "cell_type": "code",
   "execution_count": 30,
   "id": "824df2b8",
   "metadata": {},
   "outputs": [],
   "source": [
    "df=pd.DataFrame(lst,columns=[\"Bname\",\"Edu_loan\",\"Personal_loan\",\"Home_loan\"])"
   ]
  },
  {
   "cell_type": "code",
   "execution_count": 31,
   "id": "6beb7432",
   "metadata": {},
   "outputs": [
    {
     "name": "stdout",
     "output_type": "stream",
     "text": [
      "   Bname  Edu_loan  Personal_loan  Home_loan\n",
      "0    sbi       7.5            7.6        7.7\n",
      "1  icici       6.5            6.9        7.8\n",
      "2   Hdfc      11.4           11.5        9.5\n"
     ]
    }
   ],
   "source": [
    "print(df)"
   ]
  },
  {
   "cell_type": "code",
   "execution_count": 32,
   "id": "aeef90a3",
   "metadata": {},
   "outputs": [
    {
     "data": {
      "text/html": [
       "<div>\n",
       "<style scoped>\n",
       "    .dataframe tbody tr th:only-of-type {\n",
       "        vertical-align: middle;\n",
       "    }\n",
       "\n",
       "    .dataframe tbody tr th {\n",
       "        vertical-align: top;\n",
       "    }\n",
       "\n",
       "    .dataframe thead th {\n",
       "        text-align: right;\n",
       "    }\n",
       "</style>\n",
       "<table border=\"1\" class=\"dataframe\">\n",
       "  <thead>\n",
       "    <tr style=\"text-align: right;\">\n",
       "      <th></th>\n",
       "      <th>Edu_loan</th>\n",
       "      <th>Personal_loan</th>\n",
       "      <th>Home_loan</th>\n",
       "    </tr>\n",
       "    <tr>\n",
       "      <th>Bname</th>\n",
       "      <th></th>\n",
       "      <th></th>\n",
       "      <th></th>\n",
       "    </tr>\n",
       "  </thead>\n",
       "  <tbody>\n",
       "    <tr>\n",
       "      <th>sbi</th>\n",
       "      <td>7.5</td>\n",
       "      <td>7.6</td>\n",
       "      <td>7.7</td>\n",
       "    </tr>\n",
       "    <tr>\n",
       "      <th>icici</th>\n",
       "      <td>6.5</td>\n",
       "      <td>6.9</td>\n",
       "      <td>7.8</td>\n",
       "    </tr>\n",
       "    <tr>\n",
       "      <th>Hdfc</th>\n",
       "      <td>11.4</td>\n",
       "      <td>11.5</td>\n",
       "      <td>9.5</td>\n",
       "    </tr>\n",
       "  </tbody>\n",
       "</table>\n",
       "</div>"
      ],
      "text/plain": [
       "       Edu_loan  Personal_loan  Home_loan\n",
       "Bname                                    \n",
       "sbi         7.5            7.6        7.7\n",
       "icici       6.5            6.9        7.8\n",
       "Hdfc       11.4           11.5        9.5"
      ]
     },
     "execution_count": 32,
     "metadata": {},
     "output_type": "execute_result"
    }
   ],
   "source": [
    "df.set_index(\"Bname\")"
   ]
  },
  {
   "cell_type": "code",
   "execution_count": 33,
   "id": "105b3249",
   "metadata": {},
   "outputs": [
    {
     "data": {
      "text/plain": [
       "0      sbi\n",
       "1    icici\n",
       "2     Hdfc\n",
       "Name: Bname, dtype: object"
      ]
     },
     "execution_count": 33,
     "metadata": {},
     "output_type": "execute_result"
    }
   ],
   "source": [
    "df[\"Bname\"]"
   ]
  },
  {
   "cell_type": "code",
   "execution_count": 36,
   "id": "35d07a2d",
   "metadata": {},
   "outputs": [
    {
     "data": {
      "text/html": [
       "<div>\n",
       "<style scoped>\n",
       "    .dataframe tbody tr th:only-of-type {\n",
       "        vertical-align: middle;\n",
       "    }\n",
       "\n",
       "    .dataframe tbody tr th {\n",
       "        vertical-align: top;\n",
       "    }\n",
       "\n",
       "    .dataframe thead th {\n",
       "        text-align: right;\n",
       "    }\n",
       "</style>\n",
       "<table border=\"1\" class=\"dataframe\">\n",
       "  <thead>\n",
       "    <tr style=\"text-align: right;\">\n",
       "      <th></th>\n",
       "      <th>Bname</th>\n",
       "      <th>Edu_loan</th>\n",
       "      <th>Personal_loan</th>\n",
       "      <th>Home_loan</th>\n",
       "    </tr>\n",
       "  </thead>\n",
       "  <tbody>\n",
       "    <tr>\n",
       "      <th>0</th>\n",
       "      <td>sbi</td>\n",
       "      <td>7.5</td>\n",
       "      <td>7.6</td>\n",
       "      <td>7.7</td>\n",
       "    </tr>\n",
       "    <tr>\n",
       "      <th>1</th>\n",
       "      <td>icici</td>\n",
       "      <td>6.5</td>\n",
       "      <td>6.9</td>\n",
       "      <td>7.8</td>\n",
       "    </tr>\n",
       "    <tr>\n",
       "      <th>2</th>\n",
       "      <td>Hdfc</td>\n",
       "      <td>11.4</td>\n",
       "      <td>11.5</td>\n",
       "      <td>9.5</td>\n",
       "    </tr>\n",
       "  </tbody>\n",
       "</table>\n",
       "</div>"
      ],
      "text/plain": [
       "   Bname  Edu_loan  Personal_loan  Home_loan\n",
       "0    sbi       7.5            7.6        7.7\n",
       "1  icici       6.5            6.9        7.8\n",
       "2   Hdfc      11.4           11.5        9.5"
      ]
     },
     "execution_count": 36,
     "metadata": {},
     "output_type": "execute_result"
    }
   ],
   "source": [
    "df\n"
   ]
  },
  {
   "cell_type": "code",
   "execution_count": 37,
   "id": "98a9bdf2",
   "metadata": {},
   "outputs": [],
   "source": [
    "a={10,20,30,40,50}\n",
    "\n",
    "b1=np.array(a)"
   ]
  },
  {
   "cell_type": "code",
   "execution_count": 39,
   "id": "5e383f6f",
   "metadata": {},
   "outputs": [],
   "source": [
    "df=pd.Series(b1)"
   ]
  },
  {
   "cell_type": "code",
   "execution_count": 40,
   "id": "06b54738",
   "metadata": {},
   "outputs": [
    {
     "data": {
      "text/plain": [
       "0    {50, 20, 40, 10, 30}\n",
       "dtype: object"
      ]
     },
     "execution_count": 40,
     "metadata": {},
     "output_type": "execute_result"
    }
   ],
   "source": [
    "df\n"
   ]
  },
  {
   "cell_type": "code",
   "execution_count": 41,
   "id": "ab358e28",
   "metadata": {},
   "outputs": [],
   "source": [
    "DF=pd.DataFrame(df)"
   ]
  },
  {
   "cell_type": "code",
   "execution_count": 42,
   "id": "c5559a4f",
   "metadata": {},
   "outputs": [
    {
     "data": {
      "text/html": [
       "<div>\n",
       "<style scoped>\n",
       "    .dataframe tbody tr th:only-of-type {\n",
       "        vertical-align: middle;\n",
       "    }\n",
       "\n",
       "    .dataframe tbody tr th {\n",
       "        vertical-align: top;\n",
       "    }\n",
       "\n",
       "    .dataframe thead th {\n",
       "        text-align: right;\n",
       "    }\n",
       "</style>\n",
       "<table border=\"1\" class=\"dataframe\">\n",
       "  <thead>\n",
       "    <tr style=\"text-align: right;\">\n",
       "      <th></th>\n",
       "      <th>0</th>\n",
       "    </tr>\n",
       "  </thead>\n",
       "  <tbody>\n",
       "    <tr>\n",
       "      <th>0</th>\n",
       "      <td>{50, 20, 40, 10, 30}</td>\n",
       "    </tr>\n",
       "  </tbody>\n",
       "</table>\n",
       "</div>"
      ],
      "text/plain": [
       "                      0\n",
       "0  {50, 20, 40, 10, 30}"
      ]
     },
     "execution_count": 42,
     "metadata": {},
     "output_type": "execute_result"
    }
   ],
   "source": [
    "DF\n"
   ]
  },
  {
   "cell_type": "code",
   "execution_count": 43,
   "id": "a997f9b4",
   "metadata": {},
   "outputs": [],
   "source": [
    "#working with CSV's \n",
    "\n",
    "# main thing : to work with CSV's we will use : df=pd.read_csv(file_path)"
   ]
  },
  {
   "cell_type": "code",
   "execution_count": 45,
   "id": "bb737ce7",
   "metadata": {},
   "outputs": [],
   "source": [
    "df=pd.read_csv(\"C:/Users/HARSHA/miniconda3/Lib/site-packages/numpy/random/tests/data/pcg64-testset-2.csv\")"
   ]
  },
  {
   "cell_type": "code",
   "execution_count": 46,
   "id": "f8388a39",
   "metadata": {},
   "outputs": [
    {
     "data": {
      "text/html": [
       "<div>\n",
       "<style scoped>\n",
       "    .dataframe tbody tr th:only-of-type {\n",
       "        vertical-align: middle;\n",
       "    }\n",
       "\n",
       "    .dataframe tbody tr th {\n",
       "        vertical-align: top;\n",
       "    }\n",
       "\n",
       "    .dataframe thead th {\n",
       "        text-align: right;\n",
       "    }\n",
       "</style>\n",
       "<table border=\"1\" class=\"dataframe\">\n",
       "  <thead>\n",
       "    <tr style=\"text-align: right;\">\n",
       "      <th></th>\n",
       "      <th>seed</th>\n",
       "      <th>0x0</th>\n",
       "    </tr>\n",
       "  </thead>\n",
       "  <tbody>\n",
       "    <tr>\n",
       "      <th>0</th>\n",
       "      <td>0</td>\n",
       "      <td>0xa30febcfd9c2825f</td>\n",
       "    </tr>\n",
       "    <tr>\n",
       "      <th>1</th>\n",
       "      <td>1</td>\n",
       "      <td>0x4510bdf882d9d721</td>\n",
       "    </tr>\n",
       "    <tr>\n",
       "      <th>2</th>\n",
       "      <td>2</td>\n",
       "      <td>0xa7d3da94ecde8b8</td>\n",
       "    </tr>\n",
       "    <tr>\n",
       "      <th>3</th>\n",
       "      <td>3</td>\n",
       "      <td>0x43b27b61342f01d</td>\n",
       "    </tr>\n",
       "    <tr>\n",
       "      <th>4</th>\n",
       "      <td>4</td>\n",
       "      <td>0xd0327a782cde513b</td>\n",
       "    </tr>\n",
       "    <tr>\n",
       "      <th>...</th>\n",
       "      <td>...</td>\n",
       "      <td>...</td>\n",
       "    </tr>\n",
       "    <tr>\n",
       "      <th>995</th>\n",
       "      <td>995</td>\n",
       "      <td>0xdb575260935d51d5</td>\n",
       "    </tr>\n",
       "    <tr>\n",
       "      <th>996</th>\n",
       "      <td>996</td>\n",
       "      <td>0x13fb4bfbbc0d7b53</td>\n",
       "    </tr>\n",
       "    <tr>\n",
       "      <th>997</th>\n",
       "      <td>997</td>\n",
       "      <td>0x62213850186bb92b</td>\n",
       "    </tr>\n",
       "    <tr>\n",
       "      <th>998</th>\n",
       "      <td>998</td>\n",
       "      <td>0x2a34823312c00388</td>\n",
       "    </tr>\n",
       "    <tr>\n",
       "      <th>999</th>\n",
       "      <td>999</td>\n",
       "      <td>0x6148329042f743b0</td>\n",
       "    </tr>\n",
       "  </tbody>\n",
       "</table>\n",
       "<p>1000 rows × 2 columns</p>\n",
       "</div>"
      ],
      "text/plain": [
       "     seed                  0x0\n",
       "0       0   0xa30febcfd9c2825f\n",
       "1       1   0x4510bdf882d9d721\n",
       "2       2    0xa7d3da94ecde8b8\n",
       "3       3    0x43b27b61342f01d\n",
       "4       4   0xd0327a782cde513b\n",
       "..    ...                  ...\n",
       "995   995   0xdb575260935d51d5\n",
       "996   996   0x13fb4bfbbc0d7b53\n",
       "997   997   0x62213850186bb92b\n",
       "998   998   0x2a34823312c00388\n",
       "999   999   0x6148329042f743b0\n",
       "\n",
       "[1000 rows x 2 columns]"
      ]
     },
     "execution_count": 46,
     "metadata": {},
     "output_type": "execute_result"
    }
   ],
   "source": [
    "df\n"
   ]
  },
  {
   "cell_type": "code",
   "execution_count": null,
   "id": "a7f98db5",
   "metadata": {},
   "outputs": [],
   "source": []
  }
 ],
 "metadata": {
  "kernelspec": {
   "display_name": "Python 3 (ipykernel)",
   "language": "python",
   "name": "python3"
  },
  "language_info": {
   "codemirror_mode": {
    "name": "ipython",
    "version": 3
   },
   "file_extension": ".py",
   "mimetype": "text/x-python",
   "name": "python",
   "nbconvert_exporter": "python",
   "pygments_lexer": "ipython3",
   "version": "3.9.13"
  }
 },
 "nbformat": 4,
 "nbformat_minor": 5
}
